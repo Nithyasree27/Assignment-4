{
 "cells": [
  {
   "cell_type": "code",
   "execution_count": 2,
   "id": "991c85ed",
   "metadata": {},
   "outputs": [
    {
     "data": {
      "text/plain": [
       "(0.49019607843137253,\n",
       " 0.7826278062642578,\n",
       " 2,\n",
       " array([[ 0.68,  0.32],\n",
       "        [12.24,  5.76],\n",
       "        [ 4.08,  1.92]]))"
      ]
     },
     "execution_count": 2,
     "metadata": {},
     "output_type": "execute_result"
    }
   ],
   "source": [
    "import pandas as pd\n",
    "from scipy import stats\n",
    "from statsmodels.stats.proportion import proportions_ztest\n",
    "sp=pd.read_excel(\"E:/imarticus/excels/spotify.xlsx\")\n",
    "table=pd.crosstab(sp.A,sp.B)\n",
    "stats.chi2_contingency(table)"
   ]
  },
  {
   "cell_type": "code",
   "execution_count": null,
   "id": "35e09786",
   "metadata": {},
   "outputs": [],
   "source": []
  }
 ],
 "metadata": {
  "kernelspec": {
   "display_name": "Python 3 (ipykernel)",
   "language": "python",
   "name": "python3"
  },
  "language_info": {
   "codemirror_mode": {
    "name": "ipython",
    "version": 3
   },
   "file_extension": ".py",
   "mimetype": "text/x-python",
   "name": "python",
   "nbconvert_exporter": "python",
   "pygments_lexer": "ipython3",
   "version": "3.9.7"
  }
 },
 "nbformat": 4,
 "nbformat_minor": 5
}
